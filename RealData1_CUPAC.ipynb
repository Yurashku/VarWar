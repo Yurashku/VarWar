{
 "cells": [
  {
   "cell_type": "markdown",
   "metadata": {},
   "source": [
    "# Снижение дисперсии на реальных данных\n",
    "\n",
    "## 📋 Оглавление\n",
    "\n",
    "1. [**Загрузка данных**](#DATA) - подготовка датасета для эксперимента\n",
    "2. [**Модели снижения дисперсии**](#model):\n",
    "   - [AutoCUPAC](#autocupac) - наш улучшенный метод с автоматическим выбором признаков\n",
    "3. [**Результаты**](#RESULTS) - сводная таблица с показателями снижения дисперсии\n",
    "4. [**Размер выборки для пилота**](#pilot-sample) - расчет необходимого количества участников\n",
    "5. [**Резюме**](#resume) - итоговые результаты и выводы"
   ]
  },
  {
   "cell_type": "markdown",
   "metadata": {},
   "source": [
    "## DATA\n",
    "Используем реальные данные для демонстрации эффективности различных методов снижения дисперсии."
   ]
  },
  {
   "cell_type": "code",
   "execution_count": null,
   "metadata": {},
   "outputs": [],
   "source": [
    "import pandas as pd\n",
    "pd.set_option(\n",
    "    'display.max_rows', None,\n",
    "    'display.max_columns', None,\n",
    "    'display.float_format', '{:.2f}'.format\n",
    ")\n",
    "import numpy as np\n",
    "import time\n",
    "from functools import wraps"
   ]
  },
  {
   "cell_type": "code",
   "execution_count": null,
   "metadata": {
    "ExecuteTime": {
     "end_time": "2025-09-16T09:52:51.183999Z",
     "start_time": "2025-09-16T09:52:51.039754Z"
    }
   },
   "outputs": [],
   "source": [
    "df.head()"
   ]
  },
  {
   "cell_type": "code",
   "execution_count": 23,
   "metadata": {
    "ExecuteTime": {
     "end_time": "2025-09-16T09:52:51.220196Z",
     "start_time": "2025-09-16T09:52:51.193696Z"
    }
   },
   "outputs": [],
   "source": [
    "# Назначаем treatment случайным образом\n",
    "df['treatment_flg'] = np.random.choice([0, 1], size=df.shape[0])"
   ]
  },
  {
   "cell_type": "markdown",
   "metadata": {},
   "source": [
    "Необходимо заполнить `имена соответсвующих колонок` как снизу в примере"
   ]
  },
  {
   "cell_type": "code",
   "execution_count": 24,
   "metadata": {
    "ExecuteTime": {
     "end_time": "2025-09-16T09:52:54.901496Z",
     "start_time": "2025-09-16T09:52:54.398891Z"
    }
   },
   "outputs": [],
   "source": [
    "CUPAC_FEATURE = df.filter(like='_lag').columns.tolist() \n",
    "TREATMENT = 'treatment_flg'\n",
    "TARGET = 'cltv'"
   ]
  },
  {
   "cell_type": "code",
   "execution_count": 25,
   "metadata": {
    "ExecuteTime": {
     "end_time": "2025-09-16T09:52:55.929239Z",
     "start_time": "2025-09-16T09:52:55.915137Z"
    }
   },
   "outputs": [],
   "source": [
    "GLOBAL_RESULTS = pd.DataFrame(columns=[\n",
    "    \"experiment\", \"df\",\n",
    "    \"control mean\", \"test mean\", \"control means diff\", \"test means diff\",\n",
    "    \"var_red (%)\", \"execution time (sec)\"\n",
    "])\n",
    "\n",
    "def log_execution_time(func):\n",
    "    @wraps(func)\n",
    "    def wrapper(self, df, *args, **kwargs):\n",
    "        start = time.time()\n",
    "        result = func(self, df, *args, **kwargs)\n",
    "        self.execution_time = time.time() - start\n",
    "        return result\n",
    "    return wrapper"
   ]
  },
  {
   "cell_type": "markdown",
   "metadata": {},
   "source": [
    "<a id=\"model\"></a>\n",
    "## Модель"
   ]
  },
  {
   "cell_type": "markdown",
   "metadata": {},
   "source": [
    "<a id=\"autocupac\"></a>\n",
    "### AutoCUPAC\n",
    "\n",
    "автоматический выбор признаков и модели для максимального снижения дисперсии. Использует ML-подходы для оптимальной комбинации контрольных переменных."
   ]
  },
  {
   "cell_type": "code",
   "execution_count": 26,
   "metadata": {
    "ExecuteTime": {
     "end_time": "2025-09-16T09:53:00.595828Z",
     "start_time": "2025-09-16T09:52:59.896917Z"
    }
   },
   "outputs": [],
   "source": [
    "from sklearn.linear_model import LinearRegression, Ridge, Lasso\n",
    "from catboost import CatBoostRegressor\n",
    "from sklearn.model_selection import KFold\n",
    "from sklearn.metrics import r2_score\n",
    "from typing import Optional, Dict, List, Union\n",
    "\n",
    "\n",
    "class CUPACTransformer:\n",
    "    \"\"\"\n",
    "    Улучшенный CUPAC трансформер с расширенной отчетностью\n",
    "    \"\"\"\n",
    "\n",
    "    def __init__(\n",
    "        self,\n",
    "        target_col: str,\n",
    "        lag_suffix: str = \"_lag\",\n",
    "        target_counterfactual_suffix=\"0\",\n",
    "        models: Optional[Dict] = None,\n",
    "        n_folds: int = 5,\n",
    "        random_state: Optional[int] = None,\n",
    "    ):\n",
    "        self.target_col = target_col\n",
    "        self.target_counterfactual_suffix = target_counterfactual_suffix\n",
    "        self.lag_suffix = lag_suffix\n",
    "        self.n_folds = n_folds\n",
    "        self.random_state = random_state\n",
    "\n",
    "        self.models = models or {\n",
    "            \"Linear\": LinearRegression(),\n",
    "            \"Ridge\": Ridge(alpha=0.5),\n",
    "            \"Lasso\": Lasso(alpha=0.01, max_iter=10000),\n",
    "            \"CatBoost\": CatBoostRegressor(\n",
    "                iterations=100,\n",
    "                depth=4,\n",
    "                learning_rate=0.1,\n",
    "                silent=True,\n",
    "                random_state=random_state,\n",
    "                allow_writing_files=False,\n",
    "            ),\n",
    "        }\n",
    "\n",
    "        self.best_model = None\n",
    "        self.best_model_name = None\n",
    "        self.best_score = -np.inf\n",
    "        self.variance_reduction = None\n",
    "        self.lag_features = None\n",
    "        self.current_features = None\n",
    "        self.is_fitted = False\n",
    "        self.model_results_ = {}\n",
    "        self.feature_importances_ = None\n",
    "\n",
    "    def _prepare_train_data(self, df: pd.DataFrame) -> tuple:\n",
    "        \"\"\"Подготовка данных для обучения\"\"\"\n",
    "        target_counterfactual_name = (\n",
    "            f\"{self.target_col}{self.target_counterfactual_suffix}{self.lag_suffix}\"\n",
    "        )\n",
    "\n",
    "        self.lag_features = [\n",
    "            col\n",
    "            for col in df.columns\n",
    "            if col.endswith(self.lag_suffix)\n",
    "            and col != f\"{self.target_col}{self.lag_suffix}\"\n",
    "        ]\n",
    "\n",
    "        if not self.lag_features:\n",
    "            raise ValueError(\"Не найдены лаговые признаки для обучения\")\n",
    "\n",
    "        self.current_features = [\n",
    "            col.replace(self.lag_suffix, \"\") for col in self.lag_features\n",
    "        ]\n",
    "\n",
    "        self.current_features.append(f\"{target_counterfactual_name}_1\")\n",
    "\n",
    "        return df[self.lag_features], df[f\"{target_counterfactual_name}_1\"]\n",
    "\n",
    "    def _prepare_inference_data(self, df: pd.DataFrame) -> pd.DataFrame:\n",
    "        \"\"\"Подготовка данных для применения\"\"\"\n",
    "        if not self.current_features:\n",
    "            raise RuntimeError(\"Сначала обучите модель (fit())\")\n",
    "\n",
    "        missing = [col for col in self.current_features if col not in df.columns]\n",
    "        if missing:\n",
    "            raise ValueError(f\"Отсутствуют признаки: {missing}\")\n",
    "\n",
    "        self.current_features = ['X1_lag', 'X2_lag']\n",
    "\n",
    "        return df[self.current_features].rename(\n",
    "            columns=dict(zip(self.current_features, self.lag_features))\n",
    "        )\n",
    "\n",
    "    def _calculate_variance_reduction(self, y: pd.Series, pred: pd.Series) -> float:\n",
    "        \"\"\"Расчет снижения дисперсии\"\"\"\n",
    "        pred_centered = pred - pred.mean()\n",
    "        if pred_centered.var() < 1e-10:\n",
    "            return 0.0\n",
    "\n",
    "        theta = np.cov(y, pred_centered)[0, 1] / pred_centered.var()\n",
    "        y_adj = y - theta * pred_centered\n",
    "        return max(0, (1 - y_adj.var() / y.var()) * 100)\n",
    "\n",
    "    def fit(self, df: pd.DataFrame) -> \"CUPACTransformer\":\n",
    "        \"\"\"Обучение модели на исторических данных\"\"\"\n",
    "        X, y = df[CUPAC_FEATURE], df[TARGET]\n",
    "\n",
    "        kf = KFold(n_splits=self.n_folds, shuffle=True, random_state=self.random_state)\n",
    "        results = {}\n",
    "\n",
    "        for name, model in self.models.items():\n",
    "            fold_scores = []\n",
    "            fold_var_reductions = []\n",
    "            status = \"success\"\n",
    "\n",
    "            try:\n",
    "                for train_idx, val_idx in kf.split(X):\n",
    "                    X_train, X_val = X.iloc[train_idx], X.iloc[val_idx]\n",
    "                    y_train, y_val = y.iloc[train_idx], y.iloc[val_idx]\n",
    "\n",
    "                    if name == \"CatBoost\":\n",
    "                        m = CatBoostRegressor(**model.get_params())\n",
    "                        m.fit(X_train, y_train, verbose=False)\n",
    "                    else:\n",
    "                        m = model.__class__(**model.get_params())\n",
    "                        m.fit(X_train, y_train)\n",
    "\n",
    "                    pred = m.predict(X_val)\n",
    "                    fold_scores.append(r2_score(y_val, pred))\n",
    "                    fold_var_reductions.append(\n",
    "                        self._calculate_variance_reduction(y_val, pred)\n",
    "                    )\n",
    "\n",
    "                results[name] = {\n",
    "                    \"r2\": np.nanmean(fold_scores),\n",
    "                    \"var_reduction\": np.nanmean(fold_var_reductions),\n",
    "                    \"status\": status,\n",
    "                }\n",
    "\n",
    "            except Exception as e:\n",
    "                error_msg = f\"{type(e).__name__}: {str(e)}\"\n",
    "                results[name] = {\n",
    "                    \"r2\": None,\n",
    "                    \"var_reduction\": None,\n",
    "                    \"status\": f\"failed: {error_msg}\",\n",
    "                }\n",
    "                print(f\"Ошибка в {name}: {error_msg}\")\n",
    "\n",
    "        self.model_results_ = results\n",
    "\n",
    "        successful_models = {\n",
    "            k: v for k, v in results.items() if v[\"status\"] == \"success\"\n",
    "        }\n",
    "        if not successful_models:\n",
    "            raise RuntimeError(\"Все модели завершились с ошибкой\")\n",
    "\n",
    "        self.best_model_name = max(\n",
    "            successful_models, key=lambda x: successful_models[x][\"var_reduction\"]\n",
    "        )\n",
    "        self.best_score = successful_models[self.best_model_name][\"r2\"]\n",
    "        self.variance_reduction = successful_models[self.best_model_name][\n",
    "            \"var_reduction\"\n",
    "        ]\n",
    "\n",
    "        X, y = df[CUPAC_FEATURE], df[TARGET]\n",
    "        best_model_params = self.models[self.best_model_name].get_params()\n",
    "\n",
    "        if self.best_model_name == \"CatBoost\":\n",
    "            self.best_model = CatBoostRegressor(**best_model_params)\n",
    "            self.best_model.fit(X, y, verbose=False)\n",
    "            self.feature_importances_ = dict(\n",
    "                zip(X.columns, self.best_model.get_feature_importance())\n",
    "            )\n",
    "        else:\n",
    "            self.best_model = self.models[self.best_model_name].__class__(\n",
    "                **best_model_params\n",
    "            )\n",
    "            self.best_model.fit(X, y)\n",
    "            if hasattr(self.best_model, \"coef_\"):\n",
    "                self.feature_importances_ = dict(zip(X.columns, self.best_model.coef_))\n",
    "            else:\n",
    "                self.feature_importances_ = None\n",
    "\n",
    "        self.is_fitted = True\n",
    "        return self\n",
    "\n",
    "    def transform(self, df: pd.DataFrame, inplace: bool = False) -> pd.DataFrame:\n",
    "        \"\"\"Применение модели к новым данным\"\"\"\n",
    "        if not self.is_fitted:\n",
    "            raise RuntimeError(\"Сначала вызовите fit()\")\n",
    "\n",
    "        X, y = df[CUPAC_FEATURE], df[TARGET]\n",
    "        pred = self.best_model.predict(X)\n",
    "\n",
    "        y_adj = y - pred + y.mean()\n",
    "\n",
    "        if inplace:\n",
    "            df[f\"{self.target_col}_cupac\"] = y_adj\n",
    "            return df\n",
    "        return df.assign(**{f\"{self.target_col}_cupac\": y_adj})\n",
    "\n",
    "    def get_report(self) -> str:\n",
    "        \"\"\"Генерация расширенного отчета\"\"\"\n",
    "        if not self.is_fitted:\n",
    "            return \"Модель не обучена. Сначала вызовите fit().\"\n",
    "\n",
    "        sorted_features = (\n",
    "            sorted(\n",
    "                self.feature_importances_.items(), key=lambda x: abs(x[1]), reverse=True\n",
    "            )[:10]\n",
    "            if self.feature_importances_\n",
    "            else []\n",
    "        )\n",
    "\n",
    "        model_comparison = []\n",
    "        for name, data in self.model_results_.items():\n",
    "            if data[\"status\"] != \"success\":\n",
    "                line = f\"{name}: {data['status']}\"\n",
    "            else:\n",
    "                line = (\n",
    "                    f\"{name}: R²={data['r2']:.3f}, \"\n",
    "                    f\"Var.Red.={data['var_reduction']:.1f}%\"\n",
    "                )\n",
    "            model_comparison.append(line)\n",
    "\n",
    "        feature_analysis = []\n",
    "        if sorted_features:\n",
    "            max_coef = max(abs(v) for _, v in sorted_features)\n",
    "            for feat, coef in sorted_features:\n",
    "                rel_impact = abs(coef) / max_coef if max_coef != 0 else 0\n",
    "                feature_analysis.append(\n",
    "                    f\"- {feat:<25} {coef:>7.3f} {'▇'*int(10*rel_impact)}\"\n",
    "                )\n",
    "\n",
    "        report = [\n",
    "            \"Расширенный CUPAC Report\",\n",
    "            \"=\" * 40,\n",
    "            \"Сравнение моделей:\",\n",
    "            *model_comparison,\n",
    "            \"\",\n",
    "            f\"Лучшая модель: {self.best_model_name}\",\n",
    "            f\"Снижение дисперсии: {self.variance_reduction:.1f}%\",\n",
    "            f\"Качество предсказания (R²): {self.best_score:.3f}\",\n",
    "            \"\",\n",
    "            \"Топ-10 значимых признаков:\",\n",
    "            *(\n",
    "                feature_analysis\n",
    "                if feature_analysis\n",
    "                else [\"Нет данных о важности признаков\"]\n",
    "            ),\n",
    "            \"\",\n",
    "            \"Интерпретация:\",\n",
    "            \"▇▇▇▇▇▇▇▇▇▇ - максимальное влияние\",\n",
    "            \"Коэффициенты > 0: положительная связь с целевой переменной\",\n",
    "            \"Коэффициенты < 0: отрицательная связь\",\n",
    "        ]\n",
    "        return \"\\n\".join(report)\n",
    "\n",
    "    def fit_transform(\n",
    "        self,\n",
    "        df_train: pd.DataFrame,\n",
    "        df_apply: Optional[pd.DataFrame] = None,\n",
    "        inplace: bool = False,\n",
    "    ) -> pd.DataFrame:\n",
    "        self.fit(df_train)\n",
    "        df_apply = df_train if df_apply is None else df_apply\n",
    "        return self.transform(df_apply, inplace=inplace)\n",
    "\n",
    "    def get_feature_mapping(self) -> Dict[str, str]:\n",
    "        return dict(zip(self.lag_features, self.current_features))"
   ]
  },
  {
   "cell_type": "code",
   "execution_count": 27,
   "metadata": {
    "ExecuteTime": {
     "end_time": "2025-09-16T09:53:00.962871Z",
     "start_time": "2025-09-16T09:53:00.952079Z"
    }
   },
   "outputs": [],
   "source": [
    "class Experiment:\n",
    "    name = None\n",
    "    counter = 1\n",
    "    transformated_column = None\n",
    "    execution_time = None\n",
    "\n",
    "    def __init__(self):\n",
    "        self.name = 'BaseLine'\n",
    "\n",
    "    @log_execution_time\n",
    "    def execute(self, df: pd.DataFrame):\n",
    "        self.transformated_column = df[TARGET]\n",
    "\n",
    "    def save_result(self, df: pd.DataFrame):\n",
    "        global GLOBAL_RESULTS\n",
    "        if self.transformated_column is None:\n",
    "            return\n",
    "        \n",
    "        df = df.copy()\n",
    "        df['y_transform'] = self.transformated_column\n",
    "        control = df[df[TREATMENT] == 0]\n",
    "        test = df[df[TREATMENT] == 1]\n",
    "\n",
    "        control_mean_original = control[TARGET].mean()\n",
    "        test_mean_original = test[TARGET].mean()\n",
    "\n",
    "        control_mean_transformed = control['y_transform'].mean()\n",
    "        test_mean_transformed = test['y_transform'].mean()\n",
    "\n",
    "        var_original = df[TARGET].var()\n",
    "        var_transformed = df['y_transform'].var()\n",
    "\n",
    "        var_reduction = (var_original - var_transformed) / var_original if var_original != 0 else None\n",
    "\n",
    "        control_means_diff = control_mean_transformed - control_mean_original\n",
    "        test_means_diff = test_mean_transformed - test_mean_original\n",
    "\n",
    "        summary = {\n",
    "            \"experiment\": self.name,\n",
    "            \"df\": f\"df{self.counter}\",\n",
    "            \"control mean\": control_mean_original,\n",
    "            \"test mean\": test_mean_original,\n",
    "            \"var_red (%)\": round(var_reduction * 100, 2) if var_reduction is not None else None,\n",
    "            \"control means diff\": control_means_diff,\n",
    "            \"test means diff\": test_means_diff,\n",
    "            \"execution time (sec)\": self.execution_time\n",
    "        }\n",
    "\n",
    "        GLOBAL_RESULTS = pd.concat([GLOBAL_RESULTS, pd.DataFrame([summary])], ignore_index=True)\n",
    "        self.counter += 1\n",
    "    \n",
    "    def execute_and_save(self, df):\n",
    "        self.execute(df)\n",
    "        self.save_result(df)"
   ]
  },
  {
   "cell_type": "code",
   "execution_count": 28,
   "metadata": {
    "ExecuteTime": {
     "end_time": "2025-09-16T09:53:02.036251Z",
     "start_time": "2025-09-16T09:53:02.030326Z"
    }
   },
   "outputs": [],
   "source": [
    "class AutoCupacExperiment(Experiment):\n",
    "    def __init__(self):\n",
    "        self.name = 'AutoCupac'\n",
    "        self.report = None\n",
    "\n",
    "    @log_execution_time\n",
    "    def execute(self, df: pd.DataFrame):\n",
    "        transformer = CUPACTransformer(target_col=TARGET)\n",
    "        transformer.fit(df)\n",
    "        transformed_data = transformer.transform(df)\n",
    "        \n",
    "        self.report = transformer.get_report()\n",
    "        self.transformated_column = transformed_data[f'{TARGET}_cupac']"
   ]
  },
  {
   "cell_type": "markdown",
   "metadata": {},
   "source": [
    "## RESULTS\n",
    "\n",
    "**Сводная таблица результатов** - эффективность метода CUPAC по снижению дисперсии и времени выполнения."
   ]
  },
  {
   "cell_type": "code",
   "execution_count": null,
   "metadata": {
    "ExecuteTime": {
     "end_time": "2025-09-16T12:32:40.948603Z",
     "start_time": "2025-09-16T09:53:03.919942Z"
    }
   },
   "outputs": [],
   "source": [
    "experiment = AutoCupacExperiment()\n",
    "experiment.execute_and_save(df)"
   ]
  },
  {
   "cell_type": "code",
   "execution_count": 30,
   "metadata": {
    "ExecuteTime": {
     "end_time": "2025-09-16T12:32:40.965176Z",
     "start_time": "2025-09-16T12:32:40.952067Z"
    }
   },
   "outputs": [
    {
     "data": {
      "text/html": [
       "<div>\n",
       "<style scoped>\n",
       "    .dataframe tbody tr th:only-of-type {\n",
       "        vertical-align: middle;\n",
       "    }\n",
       "\n",
       "    .dataframe tbody tr th {\n",
       "        vertical-align: top;\n",
       "    }\n",
       "\n",
       "    .dataframe thead th {\n",
       "        text-align: right;\n",
       "    }\n",
       "</style>\n",
       "<table border=\"1\" class=\"dataframe\">\n",
       "  <thead>\n",
       "    <tr style=\"text-align: right;\">\n",
       "      <th></th>\n",
       "      <th>experiment</th>\n",
       "      <th>df</th>\n",
       "      <th>control mean</th>\n",
       "      <th>test mean</th>\n",
       "      <th>control means diff</th>\n",
       "      <th>test means diff</th>\n",
       "      <th>var_red (%)</th>\n",
       "      <th>execution time (sec)</th>\n",
       "    </tr>\n",
       "  </thead>\n",
       "  <tbody>\n",
       "    <tr>\n",
       "      <th>0</th>\n",
       "      <td>AutoCupac</td>\n",
       "      <td>df1</td>\n",
       "      <td>31379.96</td>\n",
       "      <td>31428.34</td>\n",
       "      <td>-62.45</td>\n",
       "      <td>64.16</td>\n",
       "      <td>34.12</td>\n",
       "      <td>9573.43</td>\n",
       "    </tr>\n",
       "  </tbody>\n",
       "</table>\n",
       "</div>"
      ],
      "text/plain": [
       "  experiment   df  control mean  test mean  control means diff  \\\n",
       "0  AutoCupac  df1      31379.96   31428.34              -62.45   \n",
       "\n",
       "   test means diff  var_red (%)  execution time (sec)  \n",
       "0            64.16        34.12               9573.43  "
      ]
     },
     "execution_count": 30,
     "metadata": {},
     "output_type": "execute_result"
    }
   ],
   "source": [
    "GLOBAL_RESULTS"
   ]
  },
  {
   "cell_type": "code",
   "execution_count": 31,
   "metadata": {
    "ExecuteTime": {
     "end_time": "2025-09-16T12:32:40.985244Z",
     "start_time": "2025-09-16T12:32:40.967761Z"
    }
   },
   "outputs": [
    {
     "name": "stdout",
     "output_type": "stream",
     "text": [
      "Расширенный CUPAC Report\n",
      "========================================\n",
      "Сравнение моделей:\n",
      "Linear: R²=0.130, Var.Red.=16.7%\n",
      "Ridge: R²=0.038, Var.Red.=12.9%\n",
      "Lasso: R²=0.192, Var.Red.=21.8%\n",
      "CatBoost: R²=0.286, Var.Red.=28.6%\n",
      "\n",
      "Лучшая модель: CatBoost\n",
      "Снижение дисперсии: 28.6%\n",
      "Качество предсказания (R²): 0.286\n",
      "\n",
      "Топ-10 значимых признаков:\n",
      "- cltv_lag2                  22.091 ▇▇▇▇▇▇▇▇▇▇\n",
      "- cltv_lag                   18.753 ▇▇▇▇▇▇▇▇\n",
      "- rsdl_npv_lag                9.276 ▇▇▇▇\n",
      "- rsdl_npv_lag2               6.924 ▇▇▇\n",
      "- avg_pos_cc_lag2             5.797 ▇▇\n",
      "- avg_pos_cc_lag              3.918 ▇\n",
      "- avg_pl_broker_service_lag   2.738 ▇\n",
      "- avg_pl_broker_service_lag2   2.605 ▇\n",
      "- lifecycle_segment_lag_11. полный отток   2.237 ▇\n",
      "- sum_pl_val_lag2             1.888 \n",
      "\n",
      "Интерпретация:\n",
      "▇▇▇▇▇▇▇▇▇▇ - максимальное влияние\n",
      "Коэффициенты > 0: положительная связь с целевой переменной\n",
      "Коэффициенты < 0: отрицательная связь\n"
     ]
    }
   ],
   "source": [
    "print(experiment.report)"
   ]
  },
  {
   "cell_type": "markdown",
   "metadata": {},
   "source": [
    "<a id=\"pilot-sample\"></a>\n",
    "## Сколько клиентов нужно для пилота?"
   ]
  },
  {
   "cell_type": "code",
   "execution_count": 116,
   "metadata": {
    "ExecuteTime": {
     "end_time": "2025-09-16T15:16:55.055202Z",
     "start_time": "2025-09-16T15:16:55.051139Z"
    }
   },
   "outputs": [],
   "source": [
    "from scipy import stats"
   ]
  },
  {
   "cell_type": "code",
   "execution_count": 113,
   "metadata": {
    "ExecuteTime": {
     "end_time": "2025-09-16T15:14:43.642571Z",
     "start_time": "2025-09-16T15:14:43.631564Z"
    }
   },
   "outputs": [],
   "source": [
    "def calculate_sample_size(\n",
    "    baseline: float,\n",
    "    std: float,\n",
    "    mde: float = 0.01, \n",
    "    alpha: float = 0.05, \n",
    "    beta: float = 0.2, \n",
    "    s: float = 0.5\n",
    "):\n",
    "    \"\"\"\n",
    "    Расчёт требуемого размера выборки при заданных уровнях значимости (alpha) и мощности (1-beta)\n",
    "    \n",
    "    :std: Стандартное отклонение целевой метрики в генеральной совокупности\n",
    "    :baseline: Среднее значение метрики в генеральной совокупности в предпилотный период\n",
    "    :mde: Минимальный ожидаемый эффект пилота в процентах от baseline-среднего\n",
    "    :alpha: Уровень значимости (вероятность ошибка первого рода)\n",
    "    :beta: Вероятность ошибки второго рода\n",
    "    \n",
    "    :return: Размер выборки\n",
    "    \"\"\"\n",
    "    \n",
    "    # Расчёт размера выборки по формуле для t-критерия\n",
    "    sample_size = (stats.norm.ppf(1 - alpha/2) + stats.norm.ppf(1 - beta))**2*(std**2/s + std**2/(1-s))/((mde*baseline)**2)\n",
    "    \n",
    "    return np.ceil(sample_size).astype(int)"
   ]
  },
  {
   "cell_type": "code",
   "execution_count": null,
   "metadata": {
    "ExecuteTime": {
     "end_time": "2025-09-16T15:16:59.554542Z",
     "start_time": "2025-09-16T15:16:59.500950Z"
    },
    "scrolled": true
   },
   "outputs": [
    {
     "data": {
      "text/plain": [
       "2943926"
      ]
     },
     "execution_count": 117,
     "metadata": {},
     "output_type": "execute_result"
    }
   ],
   "source": [
    "# кол-во клиентов до применения cupac\n",
    "calculate_sample_size(\n",
    "    baseline=df_final['cltv'].mean(),\n",
    "    std=df_final['cltv'].std(),\n",
    "    mde=0.01, \n",
    "    alpha=0.05, \n",
    "    beta=0.2, \n",
    "    s=0.5\n",
    ")"
   ]
  },
  {
   "cell_type": "code",
   "execution_count": 121,
   "metadata": {
    "ExecuteTime": {
     "end_time": "2025-09-16T15:21:59.541483Z",
     "start_time": "2025-09-16T15:21:59.512730Z"
    }
   },
   "outputs": [
    {
     "data": {
      "text/plain": [
       "1939389"
      ]
     },
     "execution_count": 121,
     "metadata": {},
     "output_type": "execute_result"
    }
   ],
   "source": [
    "# кол-во клиентов после применением cupac\n",
    "calculate_sample_size(\n",
    "    baseline=df_final['cltv_cupac'].mean(),\n",
    "    std=df_final['cltv_cupac'].std(),\n",
    "    mde=0.01, \n",
    "    alpha=0.05, \n",
    "    beta=0.2, \n",
    "    s=0.5\n",
    ")"
   ]
  },
  {
   "cell_type": "markdown",
   "metadata": {},
   "source": [
    "<a id=\"resume\"></a>\n",
    "## Резюме\n",
    "### 📊 Снижение дисперсии\n",
    "\n",
    "**Итоговое снижение дисперсии CUPAC – 34%** \n",
    "\n",
    "**Значительно лучше классического CUPED (-9%)**\n",
    "\n",
    "### 👥 Влияние на размер выборки для пилота\n",
    "\n",
    "| Метод | Размер выборки | Снижение |\n",
    "|-------|---------------|----------|\n",
    "| **Без применения методов снижения дисперсии** | 2943926 | - |\n",
    "| **С применением CUPAC** | 1939389 | **34%** |"
   ]
  }
 ],
 "metadata": {
  "kernelspec": {
   "display_name": "Python 3 (ipykernel)",
   "language": "python",
   "name": "python3"
  },
  "language_info": {
   "codemirror_mode": {
    "name": "ipython",
    "version": 3
   },
   "file_extension": ".py",
   "mimetype": "text/x-python",
   "name": "python",
   "nbconvert_exporter": "python",
   "pygments_lexer": "ipython3",
   "version": "3.8.3"
  },
  "toc": {
   "base_numbering": 1,
   "nav_menu": {},
   "number_sections": true,
   "sideBar": true,
   "skip_h1_title": false,
   "title_cell": "Table of Contents",
   "title_sidebar": "Contents",
   "toc_cell": false,
   "toc_position": {},
   "toc_section_display": true,
   "toc_window_display": true
  }
 },
 "nbformat": 4,
 "nbformat_minor": 2
}
