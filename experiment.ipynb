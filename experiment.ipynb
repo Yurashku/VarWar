{
 "cells": [
  {
   "cell_type": "code",
   "execution_count": 16,
   "metadata": {},
   "outputs": [],
   "source": [
    "import pandas as pd\n",
    "import numpy as np\n",
    "from data_gen import DataGenerator"
   ]
  },
  {
   "cell_type": "markdown",
   "metadata": {},
   "source": [
    "Нормальные X и y, слабые корреляции"
   ]
  },
  {
   "cell_type": "code",
   "execution_count": 17,
   "metadata": {},
   "outputs": [],
   "source": [
    "gen1 = DataGenerator(\n",
    "    n_samples=2000,\n",
    "    distributions={\n",
    "        \"X1\": {\"type\": \"normal\", \"mean\": 0, \"std\": 1},\n",
    "        \"X2\": {\"type\": \"bernoulli\", \"p\": 0.5},\n",
    "        \"y0\": {\"type\": \"normal\", \"mean\": 5, \"std\": 1},\n",
    "    },\n",
    "    time_correlations={\"X1\": 0.2, \"X2\": 0.1, \"y0\": 0.3},\n",
    "    effect_size=2.0,\n",
    "    seed=42\n",
    ")\n",
    "df1 = gen1.generate()"
   ]
  },
  {
   "cell_type": "markdown",
   "metadata": {},
   "source": [
    "Высокая автокорреляция и гамма-распределение для Y"
   ]
  },
  {
   "cell_type": "code",
   "execution_count": 18,
   "metadata": {},
   "outputs": [],
   "source": [
    "gen2 = DataGenerator(\n",
    "    n_samples=2000,\n",
    "    distributions={\n",
    "        \"X1\": {\"type\": \"normal\", \"mean\": 1, \"std\": 2},\n",
    "        \"X2\": {\"type\": \"bernoulli\", \"p\": 0.3},\n",
    "        \"y0\": {\"type\": \"gamma\", \"shape\": 2.0, \"scale\": 3.0},\n",
    "    },\n",
    "    time_correlations={\"X1\": 0.8, \"X2\": 0.4, \"y0\": 0.9},\n",
    "    effect_size=3.0,\n",
    "    seed=123\n",
    ")\n",
    "df2 = gen2.generate()"
   ]
  },
  {
   "cell_type": "markdown",
   "metadata": {},
   "source": [
    "Сильно смещенное распределение X1 и слабый эффект"
   ]
  },
  {
   "cell_type": "code",
   "execution_count": 19,
   "metadata": {},
   "outputs": [],
   "source": [
    "gen3 = DataGenerator(\n",
    "    n_samples=3000,\n",
    "    distributions={\n",
    "        \"X1\": {\"type\": \"normal\", \"mean\": 10, \"std\": 5},\n",
    "        \"X2\": {\"type\": \"bernoulli\", \"p\": 0.7},\n",
    "        \"y0\": {\"type\": \"normal\", \"mean\": 0, \"std\": 1},\n",
    "    },\n",
    "    time_correlations={\"X1\": 0.5, \"X2\": 0.4, \"y0\": 0.6},\n",
    "    effect_size=0.5,\n",
    "    seed=7\n",
    ")\n",
    "df3 = gen3.generate()"
   ]
  },
  {
   "cell_type": "markdown",
   "metadata": {},
   "source": [
    "Сильный эффект и Bernoulli-переменные"
   ]
  },
  {
   "cell_type": "code",
   "execution_count": 20,
   "metadata": {},
   "outputs": [],
   "source": [
    "gen4 = DataGenerator(\n",
    "    n_samples=1500,\n",
    "    distributions={\n",
    "        \"X1\": {\"type\": \"bernoulli\", \"p\": 0.2},\n",
    "        \"X2\": {\"type\": \"bernoulli\", \"p\": 0.6},\n",
    "        \"y0\": {\"type\": \"normal\", \"mean\": 3, \"std\": 2},\n",
    "    },\n",
    "    time_correlations={\"X1\": 0.2, \"X2\": 0.5, \"y0\": 0.4},\n",
    "    effect_size=7.0,\n",
    "    seed=2024\n",
    ")\n",
    "df4 = gen4.generate()"
   ]
  },
  {
   "cell_type": "markdown",
   "metadata": {},
   "source": [
    "Гамма Y, нормальный X1, умеренный эффект"
   ]
  },
  {
   "cell_type": "code",
   "execution_count": 21,
   "metadata": {},
   "outputs": [],
   "source": [
    "gen5 = DataGenerator(\n",
    "    n_samples=2500,\n",
    "    distributions={\n",
    "        \"X1\": {\"type\": \"normal\", \"mean\": 0, \"std\": 3},\n",
    "        \"X2\": {\"type\": \"bernoulli\", \"p\": 0.5},\n",
    "        \"y0\": {\"type\": \"gamma\", \"shape\": 5.0, \"scale\": 1.0},\n",
    "    },\n",
    "    time_correlations={\"X1\": 0.3, \"X2\": 0.2, \"y0\": 0.85},\n",
    "    effect_size=4.0,\n",
    "    seed=99\n",
    ")\n",
    "df5 = gen5.generate()"
   ]
  },
  {
   "cell_type": "code",
   "execution_count": 22,
   "metadata": {},
   "outputs": [],
   "source": [
    "dfs = [df1, df2, df3, df4, df5]"
   ]
  },
  {
   "cell_type": "code",
   "execution_count": 29,
   "metadata": {},
   "outputs": [
    {
     "data": {
      "text/html": [
       "<div>\n",
       "<style scoped>\n",
       "    .dataframe tbody tr th:only-of-type {\n",
       "        vertical-align: middle;\n",
       "    }\n",
       "\n",
       "    .dataframe tbody tr th {\n",
       "        vertical-align: top;\n",
       "    }\n",
       "\n",
       "    .dataframe thead th {\n",
       "        text-align: right;\n",
       "    }\n",
       "</style>\n",
       "<table border=\"1\" class=\"dataframe\">\n",
       "  <thead>\n",
       "    <tr style=\"text-align: right;\">\n",
       "      <th></th>\n",
       "      <th>X1</th>\n",
       "      <th>X1_lag</th>\n",
       "      <th>X2</th>\n",
       "      <th>X2_lag</th>\n",
       "      <th>y0</th>\n",
       "      <th>y0_lag_1</th>\n",
       "      <th>y0_lag_2</th>\n",
       "      <th>z</th>\n",
       "      <th>U</th>\n",
       "      <th>D</th>\n",
       "      <th>d</th>\n",
       "      <th>y1</th>\n",
       "      <th>y</th>\n",
       "    </tr>\n",
       "  </thead>\n",
       "  <tbody>\n",
       "    <tr>\n",
       "      <th>0</th>\n",
       "      <td>-0.297307</td>\n",
       "      <td>-0.472199</td>\n",
       "      <td>0</td>\n",
       "      <td>1</td>\n",
       "      <td>4.794322</td>\n",
       "      <td>6.330246</td>\n",
       "      <td>5.055205</td>\n",
       "      <td>1</td>\n",
       "      <td>-0.904401</td>\n",
       "      <td>0</td>\n",
       "      <td>0</td>\n",
       "      <td>6.039658</td>\n",
       "      <td>4.794322</td>\n",
       "    </tr>\n",
       "    <tr>\n",
       "      <th>1</th>\n",
       "      <td>-1.464946</td>\n",
       "      <td>0.461551</td>\n",
       "      <td>0</td>\n",
       "      <td>0</td>\n",
       "      <td>4.088637</td>\n",
       "      <td>4.389171</td>\n",
       "      <td>6.652239</td>\n",
       "      <td>0</td>\n",
       "      <td>-0.815788</td>\n",
       "      <td>0</td>\n",
       "      <td>0</td>\n",
       "      <td>3.272692</td>\n",
       "      <td>4.088637</td>\n",
       "    </tr>\n",
       "    <tr>\n",
       "      <th>2</th>\n",
       "      <td>0.329456</td>\n",
       "      <td>0.033293</td>\n",
       "      <td>1</td>\n",
       "      <td>1</td>\n",
       "      <td>4.122169</td>\n",
       "      <td>2.984033</td>\n",
       "      <td>4.649830</td>\n",
       "      <td>0</td>\n",
       "      <td>0.649605</td>\n",
       "      <td>0</td>\n",
       "      <td>0</td>\n",
       "      <td>5.338270</td>\n",
       "      <td>4.122169</td>\n",
       "    </tr>\n",
       "    <tr>\n",
       "      <th>3</th>\n",
       "      <td>-1.708621</td>\n",
       "      <td>-0.737885</td>\n",
       "      <td>1</td>\n",
       "      <td>0</td>\n",
       "      <td>4.877743</td>\n",
       "      <td>7.188729</td>\n",
       "      <td>4.008481</td>\n",
       "      <td>1</td>\n",
       "      <td>-1.707343</td>\n",
       "      <td>0</td>\n",
       "      <td>0</td>\n",
       "      <td>4.046640</td>\n",
       "      <td>4.877743</td>\n",
       "    </tr>\n",
       "    <tr>\n",
       "      <th>4</th>\n",
       "      <td>0.020508</td>\n",
       "      <td>0.706798</td>\n",
       "      <td>1</td>\n",
       "      <td>0</td>\n",
       "      <td>2.998831</td>\n",
       "      <td>4.361080</td>\n",
       "      <td>5.076842</td>\n",
       "      <td>1</td>\n",
       "      <td>-0.584229</td>\n",
       "      <td>1</td>\n",
       "      <td>1</td>\n",
       "      <td>5.725767</td>\n",
       "      <td>5.725767</td>\n",
       "    </tr>\n",
       "    <tr>\n",
       "      <th>...</th>\n",
       "      <td>...</td>\n",
       "      <td>...</td>\n",
       "      <td>...</td>\n",
       "      <td>...</td>\n",
       "      <td>...</td>\n",
       "      <td>...</td>\n",
       "      <td>...</td>\n",
       "      <td>...</td>\n",
       "      <td>...</td>\n",
       "      <td>...</td>\n",
       "      <td>...</td>\n",
       "      <td>...</td>\n",
       "      <td>...</td>\n",
       "    </tr>\n",
       "    <tr>\n",
       "      <th>1995</th>\n",
       "      <td>1.606489</td>\n",
       "      <td>1.010382</td>\n",
       "      <td>0</td>\n",
       "      <td>1</td>\n",
       "      <td>7.125017</td>\n",
       "      <td>4.988984</td>\n",
       "      <td>5.526429</td>\n",
       "      <td>0</td>\n",
       "      <td>0.390870</td>\n",
       "      <td>1</td>\n",
       "      <td>0</td>\n",
       "      <td>6.338262</td>\n",
       "      <td>7.125017</td>\n",
       "    </tr>\n",
       "    <tr>\n",
       "      <th>1996</th>\n",
       "      <td>1.055169</td>\n",
       "      <td>2.005243</td>\n",
       "      <td>0</td>\n",
       "      <td>0</td>\n",
       "      <td>4.389471</td>\n",
       "      <td>4.024334</td>\n",
       "      <td>4.383882</td>\n",
       "      <td>1</td>\n",
       "      <td>-0.839797</td>\n",
       "      <td>0</td>\n",
       "      <td>0</td>\n",
       "      <td>2.960262</td>\n",
       "      <td>4.389471</td>\n",
       "    </tr>\n",
       "    <tr>\n",
       "      <th>1997</th>\n",
       "      <td>1.581608</td>\n",
       "      <td>1.617605</td>\n",
       "      <td>0</td>\n",
       "      <td>0</td>\n",
       "      <td>4.522303</td>\n",
       "      <td>5.596374</td>\n",
       "      <td>5.291108</td>\n",
       "      <td>1</td>\n",
       "      <td>-0.511105</td>\n",
       "      <td>0</td>\n",
       "      <td>0</td>\n",
       "      <td>7.301909</td>\n",
       "      <td>4.522303</td>\n",
       "    </tr>\n",
       "    <tr>\n",
       "      <th>1998</th>\n",
       "      <td>1.812040</td>\n",
       "      <td>1.406892</td>\n",
       "      <td>0</td>\n",
       "      <td>1</td>\n",
       "      <td>4.380839</td>\n",
       "      <td>4.439230</td>\n",
       "      <td>4.039406</td>\n",
       "      <td>0</td>\n",
       "      <td>-3.635200</td>\n",
       "      <td>0</td>\n",
       "      <td>0</td>\n",
       "      <td>1.954124</td>\n",
       "      <td>4.380839</td>\n",
       "    </tr>\n",
       "    <tr>\n",
       "      <th>1999</th>\n",
       "      <td>-1.501049</td>\n",
       "      <td>-1.044861</td>\n",
       "      <td>0</td>\n",
       "      <td>1</td>\n",
       "      <td>5.507129</td>\n",
       "      <td>4.790228</td>\n",
       "      <td>4.709628</td>\n",
       "      <td>1</td>\n",
       "      <td>2.092099</td>\n",
       "      <td>1</td>\n",
       "      <td>1</td>\n",
       "      <td>12.199120</td>\n",
       "      <td>12.199120</td>\n",
       "    </tr>\n",
       "  </tbody>\n",
       "</table>\n",
       "<p>2000 rows × 13 columns</p>\n",
       "</div>"
      ],
      "text/plain": [
       "            X1    X1_lag  X2  X2_lag        y0  y0_lag_1  y0_lag_2  z  \\\n",
       "0    -0.297307 -0.472199   0       1  4.794322  6.330246  5.055205  1   \n",
       "1    -1.464946  0.461551   0       0  4.088637  4.389171  6.652239  0   \n",
       "2     0.329456  0.033293   1       1  4.122169  2.984033  4.649830  0   \n",
       "3    -1.708621 -0.737885   1       0  4.877743  7.188729  4.008481  1   \n",
       "4     0.020508  0.706798   1       0  2.998831  4.361080  5.076842  1   \n",
       "...        ...       ...  ..     ...       ...       ...       ... ..   \n",
       "1995  1.606489  1.010382   0       1  7.125017  4.988984  5.526429  0   \n",
       "1996  1.055169  2.005243   0       0  4.389471  4.024334  4.383882  1   \n",
       "1997  1.581608  1.617605   0       0  4.522303  5.596374  5.291108  1   \n",
       "1998  1.812040  1.406892   0       1  4.380839  4.439230  4.039406  0   \n",
       "1999 -1.501049 -1.044861   0       1  5.507129  4.790228  4.709628  1   \n",
       "\n",
       "             U  D  d         y1          y  \n",
       "0    -0.904401  0  0   6.039658   4.794322  \n",
       "1    -0.815788  0  0   3.272692   4.088637  \n",
       "2     0.649605  0  0   5.338270   4.122169  \n",
       "3    -1.707343  0  0   4.046640   4.877743  \n",
       "4    -0.584229  1  1   5.725767   5.725767  \n",
       "...        ... .. ..        ...        ...  \n",
       "1995  0.390870  1  0   6.338262   7.125017  \n",
       "1996 -0.839797  0  0   2.960262   4.389471  \n",
       "1997 -0.511105  0  0   7.301909   4.522303  \n",
       "1998 -3.635200  0  0   1.954124   4.380839  \n",
       "1999  2.092099  1  1  12.199120  12.199120  \n",
       "\n",
       "[2000 rows x 13 columns]"
      ]
     },
     "execution_count": 29,
     "metadata": {},
     "output_type": "execute_result"
    }
   ],
   "source": [
    "df1"
   ]
  },
  {
   "cell_type": "markdown",
   "metadata": {},
   "source": [
    "Этап 1: сравнение нашей реализации CUPAC и сторонних решений."
   ]
  },
  {
   "cell_type": "code",
   "execution_count": 23,
   "metadata": {},
   "outputs": [],
   "source": [
    "from autocupac import CUPACTransformer"
   ]
  },
  {
   "cell_type": "code",
   "execution_count": 24,
   "metadata": {},
   "outputs": [
    {
     "name": "stdout",
     "output_type": "stream",
     "text": [
      "Сижение дисперсии: 9.498780357349295\n",
      "Сижение дисперсии: 0.45465370191287935\n",
      "Сижение дисперсии: 36.345233730811444\n",
      "Сижение дисперсии: 16.732310566647637\n",
      "Сижение дисперсии: 0.1859837017363919\n"
     ]
    }
   ],
   "source": [
    "for df in dfs:\n",
    "    transformer = CUPACTransformer(target_col='y')\n",
    "    transformer.fit(df)\n",
    "    transformed_data = transformer.transform(df)\n",
    "\n",
    "    print(f'Сижение дисперсии: {transformer.variance_reduction}')"
   ]
  },
  {
   "cell_type": "code",
   "execution_count": 25,
   "metadata": {},
   "outputs": [
    {
     "name": "stdout",
     "output_type": "stream",
     "text": [
      "Dataset 0: My CUPAC VR=9.726 | MultiCuped VR=0.090 | \n",
      "Dataset 1: My CUPAC VR=0.231 | MultiCuped VR=0.110 | \n",
      "Dataset 2: My CUPAC VR=36.037 | MultiCuped VR=4.414 | \n",
      "Dataset 3: My CUPAC VR=16.509 | MultiCuped VR=0.998 | \n",
      "Dataset 4: My CUPAC VR=0.251 | MultiCuped VR=0.122 | \n"
     ]
    }
   ],
   "source": [
    "from ambrosia.preprocessing import Cuped, MultiCuped, MLVarianceReducer\n",
    "\n",
    "for i, df in enumerate(dfs):\n",
    "    # our CUPAC\n",
    "    transformer = CUPACTransformer(target_col='y')\n",
    "    transformer.fit(df)\n",
    "    transformed_data = transformer.transform(df)\n",
    "    my_vr = transformer.variance_reduction\n",
    "\n",
    "    # ambrosia MultiCuped\n",
    "    cuped = MultiCuped(verbose=False)\n",
    "    cuped.fit(\n",
    "            df,\n",
    "            'y',\n",
    "            [\"X1_lag\", \"X2_lag\", \"y0_lag_2\"])\n",
    "    df_cuped = cuped.transform(df)\n",
    "    multicuped_vr = (1 - df_cuped['y_transformed'].var() / df['y'].var()) * 100\n",
    "\n",
    "    # ambrosia MLVarianceReducer\n",
    "    # ml = MLVarianceReducer()\n",
    "    # ml.fit(df[['y', 'x1', 'x2', 'x3']])  # ML допускает больше фичей\n",
    "    # df_ml = ml.transform(df[['y', 'x1', 'x2', 'x3']])\n",
    "    # ml_vr = 1 - df_ml['y_cuped'].var() / df['y'].var()\n",
    "\n",
    "    print(\n",
    "        f\"Dataset {i}: \"\n",
    "        f\"My CUPAC VR={my_vr:.3f} | \"\n",
    "        f\"MultiCuped VR={multicuped_vr:.3f} | \"\n",
    "        # f\"MLVarianceReducer VR={ml_vr:.3f}\"\n",
    "    )\n"
   ]
  },
  {
   "cell_type": "code",
   "execution_count": 26,
   "metadata": {},
   "outputs": [
    {
     "name": "stderr",
     "output_type": "stream",
     "text": [
      "ambrosia LOGGER: After transformation Multi СUPED for y, the variance is 69.2964 % of the original\n",
      "ambrosia LOGGER: Variance transformation 11.5197 ===> 7.9828\n"
     ]
    },
    {
     "name": "stdout",
     "output_type": "stream",
     "text": [
      "30.70350703664263\n"
     ]
    }
   ],
   "source": [
    "cuped = MultiCuped()\n",
    "cuped.fit(\n",
    "        df,\n",
    "        'y',\n",
    "        [\"X1_lag\", \"X2_lag\", \"y0_lag_1\", \"y0_lag_2\"])\n",
    "df_cuped = cuped.transform(df)\n",
    "cuped_vr = (1 - df_cuped['y_transformed'].var() / df['y'].var()) * 100\n",
    "print(cuped_vr)"
   ]
  },
  {
   "cell_type": "code",
   "execution_count": 27,
   "metadata": {},
   "outputs": [
    {
     "data": {
      "text/plain": [
       "['X1_lag', 'X2_lag', 'y0_lag_2']"
      ]
     },
     "execution_count": 27,
     "metadata": {},
     "output_type": "execute_result"
    }
   ],
   "source": [
    "transformer.lag_features   # список фич, которые шли в обучение"
   ]
  },
  {
   "cell_type": "code",
   "execution_count": 28,
   "metadata": {},
   "outputs": [
    {
     "data": {
      "text/plain": [
       "{'X1_lag': 'X1', 'X2_lag': 'X2', 'y0_lag_2': 'y0_lag_1'}"
      ]
     },
     "execution_count": 28,
     "metadata": {},
     "output_type": "execute_result"
    }
   ],
   "source": [
    "transformer.get_feature_mapping()  # словарь \"старое имя\" -> \"новое\""
   ]
  }
 ],
 "metadata": {
  "kernelspec": {
   "display_name": "Python 3",
   "language": "python",
   "name": "python3"
  },
  "language_info": {
   "codemirror_mode": {
    "name": "ipython",
    "version": 3
   },
   "file_extension": ".py",
   "mimetype": "text/x-python",
   "name": "python",
   "nbconvert_exporter": "python",
   "pygments_lexer": "ipython3",
   "version": "3.10.12"
  }
 },
 "nbformat": 4,
 "nbformat_minor": 2
}
